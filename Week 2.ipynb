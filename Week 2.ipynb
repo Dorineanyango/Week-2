{
 "cells": [
  {
   "cell_type": "markdown",
   "id": "2b2bedf2",
   "metadata": {},
   "source": [
    "1. What is garbage collection in the context of Python, and why is it important? Can you explain how memory management is handled in Python?\n",
    "\n",
    "Garbage collection in Python refers to the automatic process of reclaiming memory that is no longer in use by the program. It helps manage memory by identifying and disposing of objects that are no longer needed, preventing memory leaks.\n",
    "Python uses a combination of reference counting and a cyclic garbage collector to handle memory:\n",
    "\n",
    "Reference counting: Every object in Python has a reference count. Each time an object is referenced, its count increases, and when a reference is removed, the count decreases. When the count reaches zero, the object is deallocated.\n",
    "\n",
    "Cyclic garbage collection: Python can detect reference cycles (i.e., where objects reference each other, making their reference counts non-zero but no longer needed) and break those cycles to"
   ]
  },
  {
   "cell_type": "markdown",
   "id": "82faf83c",
   "metadata": {},
   "source": [
    "2. What are the key differences between NumPy arrays and Python lists, and can you explain the advantages of using NumPy arrays in numerical computations?\n",
    "\n",
    "1. Data Type Consistency:\n",
    "Python Lists: Lists can contain elements of different data types, such as integers, floats, strings, etc., within the same list.\n",
    "NumPy Arrays: NumPy arrays require that all elements be of the same data type. This allows for more efficient memory usage and better performance, especially in numerical operations.\n",
    "2. Memory Efficiency:\n",
    "Python Lists: Lists in Python are more memory-intensive because each element in the list is a reference to an object, which adds overhead.\n",
    "NumPy Arrays: NumPy arrays store elements in a contiguous block of memory, allowing much more efficient memory usage. This leads to faster access times and reduced memory consumption, especially for large datasets.\n",
    "3. Performance:\n",
    "Python Lists: When performing operations on lists, Python often has to loop through the elements, which can be slow when working with large datasets.\n",
    "NumPy Arrays: NumPy arrays are optimized for performance and allow element-wise operations to be performed directly on the array without looping. NumPy uses highly efficient C-based implementations that make numerical computations much faster than Python's native lists."
   ]
  },
  {
   "cell_type": "markdown",
   "id": "6f4bb9eb",
   "metadata": {},
   "source": [
    "3. How does list comprehension work in Python, and can you provide an example of using it to generate a list of squared values or filter a list based on a condition?\n",
    "\n",
    "List comprehension is a concise way to create lists in Python. It consists of brackets containing an expression followed by a for loop. You can also add conditions to filter elements."
   ]
  },
  {
   "cell_type": "code",
   "execution_count": 1,
   "id": "a657db7a",
   "metadata": {},
   "outputs": [
    {
     "name": "stdout",
     "output_type": "stream",
     "text": [
      "[1, 4, 9, 16, 25]\n"
     ]
    }
   ],
   "source": [
    "#Generating a list of squared values\n",
    "numbers = [1, 2, 3, 4, 5]\n",
    "squared_numbers = [x ** 2 for x in numbers]\n",
    "print(squared_numbers) "
   ]
  },
  {
   "cell_type": "code",
   "execution_count": 2,
   "id": "4ca5c2ad",
   "metadata": {},
   "outputs": [
    {
     "name": "stdout",
     "output_type": "stream",
     "text": [
      "[2, 4, 6, 8]\n"
     ]
    }
   ],
   "source": [
    "#Filtering a list based on a condition\n",
    "numbers = [1, 2, 3, 4, 5, 6, 7, 8]\n",
    "even_numbers = [x for x in numbers if x % 2 == 0]\n",
    "print(even_numbers)  "
   ]
  },
  {
   "cell_type": "markdown",
   "id": "be9cb3f8",
   "metadata": {},
   "source": [
    "4. Can you explain the concepts of shallow and deep copying in Python, including when each is appropriate, and how deep copying is implemented?\n",
    "\n",
    "Shallow copy: A shallow copy creates a new object but does not recursively copy objects contained in the original object. This means that changes to mutable objects within the copied object will reflect in the original object. You can use copy() method or copy module for shallow copying.\n",
    "\n",
    "Deep copy: A deep copy creates a new object and recursively copies all objects found within the original object. This ensures that changes in the copied object do not affect the original object. You can use deepcopy() from the copy module."
   ]
  },
  {
   "cell_type": "code",
   "execution_count": 4,
   "id": "064eef9c",
   "metadata": {},
   "outputs": [
    {
     "name": "stdout",
     "output_type": "stream",
     "text": [
      "Shallow Copy: [[10, 2, 3], [4, 5, 6]]\n",
      "Original: [[10, 2, 3], [4, 5, 6]]\n"
     ]
    }
   ],
   "source": [
    "#Example of shallow copy\n",
    "import copy\n",
    "\n",
    "original = [[1, 2, 3], [4, 5, 6]] \n",
    "shallow_copy = copy.copy(original)   \n",
    "shallow_copy[0][0] = 10              \n",
    "\n",
    "print(\"Shallow Copy:\", shallow_copy)    \n",
    "print(\"Original:\", original)            \n",
    "\n"
   ]
  },
  {
   "cell_type": "code",
   "execution_count": 5,
   "id": "ca91600a",
   "metadata": {},
   "outputs": [
    {
     "name": "stdout",
     "output_type": "stream",
     "text": [
      "Deep Copy: [[10, 2, 3], [4, 5, 6]]\n",
      "Original: [[1, 2, 3], [4, 5, 6]]\n"
     ]
    }
   ],
   "source": [
    "#Example of deep copy\n",
    "import copy\n",
    "\n",
    "original = [[1, 2, 3], [4, 5, 6]]\n",
    "deep_copy = copy.deepcopy(original)\n",
    "deep_copy[0][0] = 10\n",
    "\n",
    "print(\"Deep Copy:\", deep_copy)       \n",
    "print(\"Original:\", original)          \n"
   ]
  },
  {
   "cell_type": "code",
   "execution_count": null,
   "id": "0c6f0d3c",
   "metadata": {},
   "outputs": [],
   "source": [
    "5. Explain with examples the difference between lists and tuples\n",
    "\n",
    "a. Mutability\n",
    "Lists are mutable, meaning you can change their content after creation. You can add, remove, or modify elements.\n",
    "Tuples are immutable, which means once they are created, their contents cannot be changed. You cannot add or remove elements.\n",
    "\n",
    "# List Example\n",
    "my_list = [1, 2, 3]\n",
    "my_list[0] = 10      # Modifying the first element\n",
    "my_list.append(4)    # Adding an element\n",
    "print(my_list)       # Output: [10, 2, 3, 4]\n",
    "\n",
    "# Tuple Example\n",
    "my_tuple = (1, 2, 3)\n",
    "# my_tuple[0] = 10   # This will raise a TypeError\n",
    "# my_tuple.append(4)  # This will also raise an AttributeError\n",
    "print(my_tuple)      # Output: (1, 2, 3)\n",
    "\n",
    "b. Syntax\n",
    "\n",
    "Lists are defined using square brackets [ ].\n",
    "Tuples are defined using parentheses ( ).\n",
    "\n",
    "# List\n",
    "my_list = [1, 2, 3]\n",
    "\n",
    "# Tuple\n",
    "my_tuple = (1, 2, 3)\n",
    "\n",
    "\n",
    "c. Use Cases\n",
    "\n",
    "Lists are used when you need a collection of items that may need to change during the program \n",
    "(e.g., adding or removing elements).\n",
    "Tuples are used when you want to store a fixed collection of items that should not change\n",
    "(e.g., representing coordinates, RGB colors, or returning multiple values from a function).\n",
    "\n",
    "# List Use Case\n",
    "shopping_list = ['apples', 'bananas', 'oranges']\n",
    "shopping_list.append('grapes')  # Adding to the list\n",
    "\n",
    "# Tuple Use Case\n",
    "coordinates = (10.0, 20.0)  # Immutable point (x, y)\n"
   ]
  },
  {
   "cell_type": "code",
   "execution_count": null,
   "id": "05bcc837",
   "metadata": {},
   "outputs": [],
   "source": []
  }
 ],
 "metadata": {
  "kernelspec": {
   "display_name": "Python 3 (ipykernel)",
   "language": "python",
   "name": "python3"
  },
  "language_info": {
   "codemirror_mode": {
    "name": "ipython",
    "version": 3
   },
   "file_extension": ".py",
   "mimetype": "text/x-python",
   "name": "python",
   "nbconvert_exporter": "python",
   "pygments_lexer": "ipython3",
   "version": "3.9.7"
  }
 },
 "nbformat": 4,
 "nbformat_minor": 5
}
